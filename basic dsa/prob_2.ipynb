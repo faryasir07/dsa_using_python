{
 "cells": [
  {
   "cell_type": "markdown",
   "id": "7f607878",
   "metadata": {},
   "source": [
    "P2: Sum the data of node at odd position"
   ]
  },
  {
   "cell_type": "code",
   "execution_count": 2,
   "id": "95cce050",
   "metadata": {},
   "outputs": [],
   "source": [
    "#creating the node\n",
    "class Node:\n",
    "  def __init__(self,value):\n",
    "    self.data=value\n",
    "    self.next=None"
   ]
  },
  {
   "cell_type": "code",
   "execution_count": 3,
   "id": "84e93dfa",
   "metadata": {},
   "outputs": [],
   "source": [
    "class LinkedList:\n",
    "  def __init__(self):\n",
    "    self.head=None\n",
    "    ##no of nodes=len of linkedlist\n",
    "    self.n=0\n",
    "\n",
    "  def __len__(self):\n",
    "    return self.n\n",
    "\n",
    "  def insert_head(self,value):\n",
    "    new_node=Node(value)\n",
    "    new_node.next=self.head\n",
    "    ##reassing new node as head\n",
    "    self.head=new_node\n",
    "    ##incrementing n\n",
    "    self.n+=1\n",
    "  def __str__(self):\n",
    "    curr=self.head\n",
    "    result=''\n",
    "    while(curr!=None):\n",
    "      result=result+str(curr.data)+'->'\n",
    "      curr=curr.next\n",
    "    return result[:-2]\n",
    "\n",
    "  def append(self,value):\n",
    "    new_node=Node(value)\n",
    "    if self.n!=0:\n",
    "     curr=self.head\n",
    "     while curr.next != None :\n",
    "       curr=curr.next\n",
    "     #curr is the last node now\n",
    "     curr.next=new_node\n",
    "     new_node.next=None\n",
    "     self.n+=1\n",
    "    else:\n",
    "      self.head=new_node\n",
    "      self.n+=1\n",
    "      return\n",
    "  def insert_after(self,after,value):\n",
    "    new_node=Node(value)\n",
    "    curr=self.head\n",
    "\n",
    "    while(curr!=None):\n",
    "      if curr.data==after:\n",
    "        break\n",
    "      curr=curr.next\n",
    "    ##case 1: break,node mil gaya , curr ki value Not None\n",
    "    if curr !=None:\n",
    "      new_node.next=curr.next\n",
    "      curr.next=new_node\n",
    "      self.n+=1\n",
    "    else:\n",
    "      return \"Item not found\"\n",
    "\n",
    "    ##case 2: pura loop chala, node nhi mila ,curr ki value None\n",
    "\n",
    "\n",
    "    ##DELETING\n",
    "  def clear_LL(self):\n",
    "    self.head=None\n",
    "    self.n=0\n",
    "  def delete_head(self):\n",
    "    if self.n!=0:\n",
    "      print(f\" Deleting :{self.head.data}\")\n",
    "      self.head=self.head.next\n",
    "      self.n-=1\n",
    "    else:\n",
    "      return \"Already Empty LinkedList\"\n",
    "  def delete_tail(self):\n",
    "    if self.head==None:\n",
    "      return \"Alredy Empty LinkedLIst\"\n",
    "    if self.n==1:\n",
    "      self.delete_head()\n",
    "\n",
    "    else :\n",
    "      curr=self.head\n",
    "      while (curr.next.next!=None):\n",
    "        curr=curr.next\n",
    "      print(f\"Deleting :{curr.next.data}\")\n",
    "      curr.next=None\n",
    "      self.n-=1\n",
    "  def remove_value(self,value):\n",
    "    if self.head==None:\n",
    "      return \"Empty LInkedLIst\"\n",
    "    if self.head.data==value:\n",
    "      return self.delete_head()\n",
    "    curr=self.head\n",
    "    while curr.next!=None:\n",
    "      if curr.next.data==value:\n",
    "        break\n",
    "      else:\n",
    "        return \"item not found\"\n",
    "    print(f\"Deleting :{curr.next.data} \")\n",
    "    curr.next=curr.next.next\n",
    "    self.n-=1\n",
    "##SEArching\n",
    "\n",
    "\n",
    "  def search(self,item):\n",
    "    curr=self.head\n",
    "    pos=0\n",
    "    while curr!=None:\n",
    "      if curr.data==item:\n",
    "        return pos\n",
    "      curr=curr.next\n",
    "      pos+=1\n",
    "    return \"Item not found\"\n",
    "  def __getitem__(self,index):\n",
    "    curr=self.head\n",
    "    pos=0\n",
    "    while curr!=None:\n",
    "      if pos==index:\n",
    "        return curr.data\n",
    "      curr=curr.next\n",
    "      pos+=1\n",
    "  def sum_odd_pos(self):\n",
    "    temp=self.head\n",
    "    counter=0\n",
    "    sum=0\n",
    "    \n",
    "    while temp!=None:\n",
    "        if counter%2!=0:\n",
    "            sum=sum+temp.data\n",
    "        counter+=1\n",
    "        temp=temp.next\n",
    "    return sum\n",
    "\n",
    "\n"
   ]
  },
  {
   "cell_type": "markdown",
   "id": "95cec2c5",
   "metadata": {},
   "source": [
    "CODE for Summing the node data at odd positions"
   ]
  },
  {
   "cell_type": "code",
   "execution_count": 4,
   "id": "7ad2d455",
   "metadata": {},
   "outputs": [],
   "source": [
    "def sum_odd_pos(self):\n",
    "    temp=self.head\n",
    "    counter=0\n",
    "    sum=0\n",
    "    \n",
    "    while temp!=None:\n",
    "        if counter%2!=0:\n",
    "            sum=sum+temp.data\n",
    "        counter+=1\n",
    "        temp=temp.next\n",
    "    return sum"
   ]
  },
  {
   "cell_type": "code",
   "execution_count": 5,
   "id": "c60a9db4",
   "metadata": {},
   "outputs": [],
   "source": [
    "ll=LinkedList()"
   ]
  },
  {
   "cell_type": "code",
   "execution_count": 6,
   "id": "320f2680",
   "metadata": {},
   "outputs": [],
   "source": [
    "ll.insert_head(56)\n",
    "ll.insert_head(45)\n",
    "ll.insert_head(76)\n",
    "ll.insert_head(48)"
   ]
  },
  {
   "cell_type": "code",
   "execution_count": 7,
   "id": "e99f8a77",
   "metadata": {},
   "outputs": [
    {
     "name": "stdout",
     "output_type": "stream",
     "text": [
      "48->76->45->56\n"
     ]
    }
   ],
   "source": [
    "print(ll)"
   ]
  },
  {
   "cell_type": "code",
   "execution_count": 8,
   "id": "f0efa512",
   "metadata": {},
   "outputs": [
    {
     "data": {
      "text/plain": [
       "132"
      ]
     },
     "execution_count": 8,
     "metadata": {},
     "output_type": "execute_result"
    }
   ],
   "source": [
    "ll.sum_odd_pos()"
   ]
  },
  {
   "cell_type": "code",
   "execution_count": null,
   "id": "f9b6bb06",
   "metadata": {},
   "outputs": [],
   "source": []
  },
  {
   "cell_type": "code",
   "execution_count": null,
   "id": "2e6e0bee",
   "metadata": {},
   "outputs": [],
   "source": []
  }
 ],
 "metadata": {
  "kernelspec": {
   "display_name": "Python 3",
   "language": "python",
   "name": "python3"
  },
  "language_info": {
   "codemirror_mode": {
    "name": "ipython",
    "version": 3
   },
   "file_extension": ".py",
   "mimetype": "text/x-python",
   "name": "python",
   "nbconvert_exporter": "python",
   "pygments_lexer": "ipython3",
   "version": "3.8.20"
  }
 },
 "nbformat": 4,
 "nbformat_minor": 5
}
