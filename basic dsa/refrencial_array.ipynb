{
 "cells": [
  {
   "cell_type": "code",
   "execution_count": 11,
   "metadata": {},
   "outputs": [],
   "source": [
    "import ctypes"
   ]
  },
  {
   "cell_type": "code",
   "execution_count": 12,
   "metadata": {},
   "outputs": [],
   "source": [
    "class MeraList:\n",
    "    def __init__(self):\n",
    "        self.size=1  ##size of array\n",
    "        self.n=0 ##number of elements\n",
    "        self.A = self.__make_array(self.size)\n",
    "\n",
    "    def _len__(self):\n",
    "        return self.n\n",
    "    \n",
    "    def append(self,item):\n",
    "        ##checking that whether an array is full or not\n",
    "        if self.n==self.size:\n",
    "            self.__resize(self.size*2)  ##doubling the array size \n",
    "        self.A[self.n]=item  ##item appended at nth location\n",
    "        self.n+=1   ##incrementing the size of array\n",
    "\n",
    "    def pop(self):\n",
    "        if self.n==0:\n",
    "            return \"list is empty\"\n",
    "        print(self.A[self.n-1])  ##accessing the last element\n",
    "        self.n=self.n-1\n",
    "    def clear(self):\n",
    "        self.n=0    ##setting the number of elemnents in the list to 0\n",
    "\n",
    "        self.size=1   ##setting the size of arrray to 1\n",
    "\n",
    "    def find(self,item):\n",
    "        for i in range(self.n):\n",
    "            if self.A[i]==item:\n",
    "                return i\n",
    "            return \"item not found\"\n",
    "        \n",
    "    def insert(self,pos,item):\n",
    "        if self.n==self.size:\n",
    "            self.__resize(self.size*2)\n",
    "        for i in range(self.n,pos,-1):\n",
    "            self.A[i]=self.A[i-1]\n",
    "        self.A[pos]=item\n",
    "        self.n+=1\n",
    "\n",
    "    def __resize(self,new_capacity):\n",
    "    # create a new array with new capacity\n",
    "      B = self.__make_array(new_capacity)\n",
    "      self.size = new_capacity\n",
    "    # copy the content of old array to new one\n",
    "      for i in range(self.n):\n",
    "        B[i] = self.A[i]\n",
    "    # reassign A\n",
    "      self.A = B\n",
    "\n",
    "    def remove(self,item):\n",
    "    # search and get pos\n",
    "     pos = self.find(item)\n",
    "     if type(pos) == int:\n",
    "      # delete\n",
    "      self.__delitem__(pos)\n",
    "     else:\n",
    "      return pos\n",
    "    \n",
    "    def __str__(self):\n",
    "     result = ''\n",
    "     for i in range(self.n):\n",
    "      result = result + str(self.A[i]) + ','\n",
    "\n",
    "     return '[' + result[:-1] + ']'\n",
    "    \n",
    "    def __getitem__(self,index):\n",
    "\n",
    "      if 0<= index < self.n:\n",
    "        return self.A[index]\n",
    "      else:\n",
    "        return 'IndexError'\n",
    "\n",
    "    def __delitem__(self,pos):\n",
    "    # delete pos wala item\n",
    "      if 0<= pos < self.n:\n",
    "       for i in range(pos,self.n-1):\n",
    "        self.A[i] = self.A[i+1]\n",
    "\n",
    "      self.n = self.n - 1\n",
    "\n",
    "\n",
    "    def __make_array(self,capacity):\n",
    "        return (capacity*ctypes.py_object)()   ##referencial array ctypes         "
   ]
  },
  {
   "cell_type": "code",
   "execution_count": 13,
   "metadata": {},
   "outputs": [],
   "source": [
    "L=MeraList()"
   ]
  },
  {
   "cell_type": "code",
   "execution_count": 14,
   "metadata": {},
   "outputs": [],
   "source": [
    "L.append(10)\n",
    "L.append(56)\n",
    "L.append('hello')\n",
    "L.append(65)"
   ]
  },
  {
   "cell_type": "code",
   "execution_count": 16,
   "metadata": {},
   "outputs": [
    {
     "data": {
      "text/plain": [
       "<__main__.MeraList at 0x24c96f79490>"
      ]
     },
     "execution_count": 16,
     "metadata": {},
     "output_type": "execute_result"
    }
   ],
   "source": [
    "L"
   ]
  },
  {
   "cell_type": "code",
   "execution_count": 17,
   "metadata": {},
   "outputs": [
    {
     "name": "stdout",
     "output_type": "stream",
     "text": [
      "[10,56,hello,65]\n"
     ]
    }
   ],
   "source": [
    "print(L)"
   ]
  },
  {
   "cell_type": "code",
   "execution_count": 18,
   "metadata": {},
   "outputs": [
    {
     "name": "stdout",
     "output_type": "stream",
     "text": [
      "65\n"
     ]
    }
   ],
   "source": [
    "L.pop()"
   ]
  },
  {
   "cell_type": "code",
   "execution_count": 19,
   "metadata": {},
   "outputs": [
    {
     "name": "stdout",
     "output_type": "stream",
     "text": [
      "[10,56,hello]\n"
     ]
    }
   ],
   "source": [
    "print(L)"
   ]
  },
  {
   "cell_type": "code",
   "execution_count": 20,
   "metadata": {},
   "outputs": [
    {
     "data": {
      "text/plain": [
       "'item not found'"
      ]
     },
     "execution_count": 20,
     "metadata": {},
     "output_type": "execute_result"
    }
   ],
   "source": [
    "L.remove('Hello')"
   ]
  },
  {
   "cell_type": "code",
   "execution_count": 22,
   "metadata": {},
   "outputs": [],
   "source": [
    "L.remove(10)"
   ]
  },
  {
   "cell_type": "code",
   "execution_count": 23,
   "metadata": {},
   "outputs": [
    {
     "name": "stdout",
     "output_type": "stream",
     "text": [
      "[56,hello]\n"
     ]
    }
   ],
   "source": [
    "print(L)"
   ]
  },
  {
   "cell_type": "code",
   "execution_count": 24,
   "metadata": {},
   "outputs": [],
   "source": [
    "L.clear()"
   ]
  },
  {
   "cell_type": "code",
   "execution_count": 25,
   "metadata": {},
   "outputs": [
    {
     "name": "stdout",
     "output_type": "stream",
     "text": [
      "[]\n"
     ]
    }
   ],
   "source": [
    "print(L)"
   ]
  },
  {
   "cell_type": "code",
   "execution_count": 26,
   "metadata": {},
   "outputs": [
    {
     "data": {
      "text/plain": [
       "0"
      ]
     },
     "execution_count": 26,
     "metadata": {},
     "output_type": "execute_result"
    }
   ],
   "source": [
    "L._len__()"
   ]
  },
  {
   "cell_type": "code",
   "execution_count": null,
   "metadata": {},
   "outputs": [],
   "source": []
  }
 ],
 "metadata": {
  "kernelspec": {
   "display_name": "Python 3",
   "language": "python",
   "name": "python3"
  },
  "language_info": {
   "codemirror_mode": {
    "name": "ipython",
    "version": 3
   },
   "file_extension": ".py",
   "mimetype": "text/x-python",
   "name": "python",
   "nbconvert_exporter": "python",
   "pygments_lexer": "ipython3",
   "version": "3.8.20"
  }
 },
 "nbformat": 4,
 "nbformat_minor": 2
}
