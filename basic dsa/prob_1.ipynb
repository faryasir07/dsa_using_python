{
 "cells": [
  {
   "cell_type": "markdown",
   "id": "6d03c8fc",
   "metadata": {},
   "source": [
    "Find the largest Value in LinkedList and replace it with given value"
   ]
  },
  {
   "cell_type": "code",
   "execution_count": 23,
   "id": "4fb95385",
   "metadata": {},
   "outputs": [],
   "source": [
    "#creating the node\n",
    "class Node:\n",
    "  def __init__(self,value):\n",
    "    self.data=value\n",
    "    self.next=None"
   ]
  },
  {
   "cell_type": "code",
   "execution_count": 24,
   "id": "8ebeb044",
   "metadata": {},
   "outputs": [],
   "source": [
    "class LinkedList:\n",
    "  def __init__(self):\n",
    "    self.head=None\n",
    "    ##no of nodes=len of linkedlist\n",
    "    self.n=0\n",
    "\n",
    "  def __len__(self):\n",
    "    return self.n\n",
    "\n",
    "  def insert_head(self,value):\n",
    "    new_node=Node(value)\n",
    "    new_node.next=self.head\n",
    "    ##reassing new node as head\n",
    "    self.head=new_node\n",
    "    ##incrementing n\n",
    "    self.n+=1\n",
    "  def __str__(self):\n",
    "    curr=self.head\n",
    "    result=''\n",
    "    while(curr!=None):\n",
    "      result=result+str(curr.data)+'->'\n",
    "      curr=curr.next\n",
    "    return result[:-2]\n",
    "\n",
    "  def append(self,value):\n",
    "    new_node=Node(value)\n",
    "    if self.n!=0:\n",
    "     curr=self.head\n",
    "     while curr.next != None :\n",
    "       curr=curr.next\n",
    "     #curr is the last node now\n",
    "     curr.next=new_node\n",
    "     new_node.next=None\n",
    "     self.n+=1\n",
    "    else:\n",
    "      self.head=new_node\n",
    "      self.n+=1\n",
    "      return\n",
    "  def insert_after(self,after,value):\n",
    "    new_node=Node(value)\n",
    "    curr=self.head\n",
    "\n",
    "    while(curr!=None):\n",
    "      if curr.data==after:\n",
    "        break\n",
    "      curr=curr.next\n",
    "    ##case 1: break,node mil gaya , curr ki value Not None\n",
    "    if curr !=None:\n",
    "      new_node.next=curr.next\n",
    "      curr.next=new_node\n",
    "      self.n+=1\n",
    "    else:\n",
    "      return \"Item not found\"\n",
    "\n",
    "    ##case 2: pura loop chala, node nhi mila ,curr ki value None\n",
    "\n",
    "\n",
    "    ##DELETING\n",
    "  def clear_LL(self):\n",
    "    self.head=None\n",
    "    self.n=0\n",
    "  def delete_head(self):\n",
    "    if self.n!=0:\n",
    "      print(f\" Deleting :{self.head.data}\")\n",
    "      self.head=self.head.next\n",
    "      self.n-=1\n",
    "    else:\n",
    "      return \"Already Empty LinkedList\"\n",
    "  def delete_tail(self):\n",
    "    if self.head==None:\n",
    "      return \"Alredy Empty LinkedLIst\"\n",
    "    if self.n==1:\n",
    "      self.delete_head()\n",
    "\n",
    "    else :\n",
    "      curr=self.head\n",
    "      while (curr.next.next!=None):\n",
    "        curr=curr.next\n",
    "      print(f\"Deleting :{curr.next.data}\")\n",
    "      curr.next=None\n",
    "      self.n-=1\n",
    "  def remove_value(self,value):\n",
    "    if self.head==None:\n",
    "      return \"Empty LInkedLIst\"\n",
    "    if self.head.data==value:\n",
    "      return self.delete_head()\n",
    "    curr=self.head\n",
    "    while curr.next!=None:\n",
    "      if curr.next.data==value:\n",
    "        break\n",
    "      else:\n",
    "        return \"item not found\"\n",
    "    print(f\"Deleting :{curr.next.data} \")\n",
    "    curr.next=curr.next.next\n",
    "    self.n-=1\n",
    "##SEArching\n",
    "\n",
    "\n",
    "  def search(self,item):\n",
    "    curr=self.head\n",
    "    pos=0\n",
    "    while curr!=None:\n",
    "      if curr.data==item:\n",
    "        return pos\n",
    "      curr=curr.next\n",
    "      pos+=1\n",
    "    return \"Item not found\"\n",
    "  def __getitem__(self,index):\n",
    "    curr=self.head\n",
    "    pos=0\n",
    "    while curr!=None:\n",
    "      if pos==index:\n",
    "        return curr.data\n",
    "      curr=curr.next\n",
    "      pos+=1\n",
    "  \n",
    "  \n",
    "  def max_replace_value(self,value):\n",
    "    temp=self.head\n",
    "    max=temp\n",
    "    while temp!=None:\n",
    "      if temp.data>max.data:\n",
    "        max=temp\n",
    "      temp=temp.next\n",
    "    max.data=value\n",
    "      \n",
    "\n",
    "\n",
    " \n",
    "\n",
    "\n",
    "\n",
    "\n",
    "\n"
   ]
  },
  {
   "cell_type": "markdown",
   "id": "9407892b",
   "metadata": {},
   "source": [
    "CODE FOR MAX REOLACE WITH GIVEN VALUE"
   ]
  },
  {
   "cell_type": "code",
   "execution_count": 25,
   "id": "f2c317c6",
   "metadata": {},
   "outputs": [],
   "source": [
    "def max_replace_value(self,value):\n",
    "    temp=self.head\n",
    "    max=temp\n",
    "    while temp!=None:\n",
    "      if temp.data>max.data:\n",
    "        max=temp\n",
    "      temp=temp.next\n",
    "    max.data=value"
   ]
  },
  {
   "cell_type": "code",
   "execution_count": 26,
   "id": "8a43fbf1",
   "metadata": {},
   "outputs": [],
   "source": [
    "ll=LinkedList()"
   ]
  },
  {
   "cell_type": "code",
   "execution_count": 27,
   "id": "b9b3c40c",
   "metadata": {},
   "outputs": [],
   "source": [
    "ll.insert_head(56)\n",
    "ll.insert_head(6)\n",
    "ll.insert_head(86)"
   ]
  },
  {
   "cell_type": "code",
   "execution_count": 28,
   "id": "36358b6e",
   "metadata": {},
   "outputs": [
    {
     "name": "stdout",
     "output_type": "stream",
     "text": [
      "86->6->56\n"
     ]
    }
   ],
   "source": [
    "print(ll)"
   ]
  },
  {
   "cell_type": "code",
   "execution_count": 29,
   "id": "dde42ac1",
   "metadata": {},
   "outputs": [],
   "source": [
    "ll.max_replace_value(45)"
   ]
  },
  {
   "cell_type": "code",
   "execution_count": 30,
   "id": "1db1343e",
   "metadata": {},
   "outputs": [
    {
     "name": "stdout",
     "output_type": "stream",
     "text": [
      "45->6->56\n"
     ]
    }
   ],
   "source": [
    "print(ll)   ##hence max is replaced by 45"
   ]
  },
  {
   "cell_type": "code",
   "execution_count": null,
   "id": "e54dbfd2",
   "metadata": {},
   "outputs": [],
   "source": []
  }
 ],
 "metadata": {
  "kernelspec": {
   "display_name": "Python 3",
   "language": "python",
   "name": "python3"
  },
  "language_info": {
   "codemirror_mode": {
    "name": "ipython",
    "version": 3
   },
   "file_extension": ".py",
   "mimetype": "text/x-python",
   "name": "python",
   "nbconvert_exporter": "python",
   "pygments_lexer": "ipython3",
   "version": "3.8.20"
  }
 },
 "nbformat": 4,
 "nbformat_minor": 5
}
