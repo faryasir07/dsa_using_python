{
 "cells": [
  {
   "cell_type": "code",
   "execution_count": 11,
   "metadata": {},
   "outputs": [],
   "source": [
    "class Node:\n",
    "    def __init__(self, data):\n",
    "        self.data = data  # Node stores data\n",
    "        self.next = None  # Pointer to the next node"
   ]
  },
  {
   "cell_type": "code",
   "execution_count": 12,
   "metadata": {},
   "outputs": [],
   "source": [
    "class CircularLinkedList:\n",
    "    def __init__(self):\n",
    "        self.head = None  # Initialize the list with no nodes\n",
    "\n",
    "    # Function to create a new circular linked list with a single node\n",
    "    def create(self, data):\n",
    "        new_node = Node(data)  # Create a new node with given data\n",
    "        if self.head is None:  # If the list is empty\n",
    "            self.head = new_node  # Set the head to the new node\n",
    "            new_node.next = self.head  # Make the node point to itself (circular link)\n",
    "        else:\n",
    "            current = self.head\n",
    "            while current.next != self.head:  # Traverse till the last node\n",
    "                current = current.next\n",
    "            current.next = new_node  # Link the last node to the new node\n",
    "            new_node.next = self.head  # Complete the circular connection\n",
    "\n",
    "    # Function to insert a node at the beginning\n",
    "    def insert_at_beginning(self, data):\n",
    "        new_node = Node(data)  # Create the new node\n",
    "        if self.head is None:  # If the list is empty\n",
    "            self.head = new_node  # Set the head to the new node\n",
    "            new_node.next = self.head  # Circular link\n",
    "        else:\n",
    "            current = self.head\n",
    "            while current.next != self.head:  # Traverse till the last node\n",
    "                current = current.next\n",
    "            current.next = new_node  # Make last node point to new node\n",
    "            new_node.next = self.head  # New node points to head (circular)\n",
    "            self.head = new_node  # Set new node as head\n",
    "\n",
    "    # Function to insert a node at any position\n",
    "    def insert_at_position(self, data, position):\n",
    "        new_node = Node(data)\n",
    "        if position == 0:  # Inserting at the beginning\n",
    "            self.insert_at_beginning(data)\n",
    "        else:\n",
    "            current = self.head\n",
    "            count = 0\n",
    "            while count < position - 1 and current.next != self.head:\n",
    "                current = current.next\n",
    "                count += 1\n",
    "\n",
    "            if current.next == self.head and count < position - 1:\n",
    "                print(\"Position out of range!\")\n",
    "                return\n",
    "\n",
    "            new_node.next = current.next  # Link new node to the next node\n",
    "            current.next = new_node  # Link current node to the new node\n",
    "\n",
    "    # Function to delete a node at the beginning\n",
    "    def delete_at_beginning(self):\n",
    "        if self.head is None:  # If list is empty\n",
    "            print(\"List is empty\")\n",
    "            return\n",
    "\n",
    "        if self.head.next == self.head:  # If only one node exists\n",
    "            self.head = None\n",
    "        else:\n",
    "            current = self.head\n",
    "            while current.next != self.head:  # Traverse to the last node\n",
    "                current = current.next\n",
    "            current.next = self.head.next  # Last node points to the second node\n",
    "            self.head = self.head.next  # Update head to the second node\n",
    "\n",
    "    # Function to delete a node at any position\n",
    "    def delete_at_position(self, position):\n",
    "        if self.head is None:\n",
    "            print(\"List is empty!\")\n",
    "            return\n",
    "\n",
    "        if position == 0:  # If deleting the first node\n",
    "            self.delete_at_beginning()\n",
    "        else:\n",
    "            current = self.head\n",
    "            count = 0\n",
    "            while count < position - 1 and current.next != self.head:\n",
    "                current = current.next\n",
    "                count += 1\n",
    "\n",
    "            if current.next == self.head and count < position - 1:\n",
    "                print(\"Position out of range!\")\n",
    "                return\n",
    "\n",
    "            current.next = current.next.next  # Skip the node to be deleted\n",
    "\n",
    "    # Function to display the circular linked list\n",
    "    def display(self):\n",
    "        if self.head is None:\n",
    "            print(\"List is empty\")\n",
    "            return\n",
    "        current = self.head\n",
    "        while True:\n",
    "            print(current.data, end=\" -> \")\n",
    "            current = current.next\n",
    "            if current == self.head:\n",
    "                break\n",
    "        print(\"(head)\")\n",
    "\n"
   ]
  },
  {
   "cell_type": "code",
   "execution_count": 13,
   "metadata": {},
   "outputs": [],
   "source": [
    "# Testing the CircularLinkedList class\n",
    "cll = CircularLinkedList()"
   ]
  },
  {
   "cell_type": "code",
   "execution_count": 14,
   "metadata": {},
   "outputs": [
    {
     "name": "stdout",
     "output_type": "stream",
     "text": [
      "10 -> (head)\n"
     ]
    }
   ],
   "source": [
    "# Creating list and insert at the beginning\n",
    "cll.create(10)\n",
    "cll.display()"
   ]
  },
  {
   "cell_type": "code",
   "execution_count": 15,
   "metadata": {},
   "outputs": [
    {
     "name": "stdout",
     "output_type": "stream",
     "text": [
      "5 -> 10 -> (head)\n"
     ]
    }
   ],
   "source": [
    "# Inserting at the beginning\n",
    "cll.insert_at_beginning(5)\n",
    "cll.display()"
   ]
  },
  {
   "cell_type": "code",
   "execution_count": 16,
   "metadata": {},
   "outputs": [
    {
     "name": "stdout",
     "output_type": "stream",
     "text": [
      "5 -> 7 -> 10 -> (head)\n"
     ]
    }
   ],
   "source": [
    "# Insert at position 2 \n",
    "cll.insert_at_position(7,1)\n",
    "cll.display()"
   ]
  },
  {
   "cell_type": "code",
   "execution_count": 17,
   "metadata": {},
   "outputs": [
    {
     "name": "stdout",
     "output_type": "stream",
     "text": [
      "7 -> 10 -> (head)\n"
     ]
    }
   ],
   "source": [
    "# Deleting at the beginning\n",
    "cll.delete_at_beginning()\n",
    "cll.display()"
   ]
  },
  {
   "cell_type": "code",
   "execution_count": 18,
   "metadata": {},
   "outputs": [
    {
     "name": "stdout",
     "output_type": "stream",
     "text": [
      "7 -> (head)\n"
     ]
    }
   ],
   "source": [
    "# Deleting at position 1\n",
    "cll.delete_at_position(1)\n",
    "cll.display()"
   ]
  },
  {
   "cell_type": "code",
   "execution_count": 19,
   "metadata": {},
   "outputs": [
    {
     "name": "stdout",
     "output_type": "stream",
     "text": [
      "Position out of range!\n",
      "7 -> (head)\n"
     ]
    }
   ],
   "source": [
    "# Tring to delete at an invalid position\n",
    "cll.delete_at_position(10)\n",
    "cll.display()"
   ]
  },
  {
   "cell_type": "code",
   "execution_count": null,
   "metadata": {},
   "outputs": [],
   "source": []
  }
 ],
 "metadata": {
  "kernelspec": {
   "display_name": "Python 3",
   "language": "python",
   "name": "python3"
  },
  "language_info": {
   "codemirror_mode": {
    "name": "ipython",
    "version": 3
   },
   "file_extension": ".py",
   "mimetype": "text/x-python",
   "name": "python",
   "nbconvert_exporter": "python",
   "pygments_lexer": "ipython3",
   "version": "3.8.20"
  }
 },
 "nbformat": 4,
 "nbformat_minor": 2
}
