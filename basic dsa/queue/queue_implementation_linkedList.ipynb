{
 "cells": [
  {
   "cell_type": "markdown",
   "id": "52f7362a",
   "metadata": {},
   "source": [
    "FIFO"
   ]
  },
  {
   "cell_type": "markdown",
   "id": "2b21865c",
   "metadata": {},
   "source": [
    "Insertion --> Tail        \n",
    "Deletion -->Head"
   ]
  },
  {
   "cell_type": "markdown",
   "id": "35b96db6",
   "metadata": {},
   "source": [
    "In Queue,\n",
    "Front == Head           \n",
    "Tail == Rear"
   ]
  },
  {
   "cell_type": "code",
   "execution_count": 7,
   "id": "d107745a",
   "metadata": {},
   "outputs": [],
   "source": [
    "class Node:\n",
    "    def __init__(self,value):\n",
    "        self.value=value\n",
    "        self.next=None"
   ]
  },
  {
   "cell_type": "code",
   "execution_count": 47,
   "id": "44dbc1bb",
   "metadata": {},
   "outputs": [],
   "source": [
    "class Queue:\n",
    "    def __init__(self):\n",
    "        self.front=None\n",
    "        self.rear=None\n",
    "    \n",
    "    def is_empty(self):\n",
    "        return self.front == None\n",
    "    \n",
    "    def enqueue(self,value):\n",
    "        new_node=Node(value)\n",
    "        if self.front==None:\n",
    "            self.front=new_node\n",
    "            self.rear=new_node\n",
    "        else:\n",
    "            self.rear.next=new_node\n",
    "            self.rear=new_node\n",
    "        \n",
    "    def dequeue(self):\n",
    "        if self.is_empty():\n",
    "            return \"Queue is empty !!!\"\n",
    "        else:\n",
    "            print(\"Dequeueing :\",self.front.value)\n",
    "            self.front=self.front.next\n",
    "    \n",
    "    def traverse(self):\n",
    "        curr=self.front\n",
    "        while (curr!=None):\n",
    "            print(curr.value,end=\" \")\n",
    "            curr=curr.next \n",
    "        \n",
    "    def size(self):\n",
    "        curr=self.front\n",
    "        count=0\n",
    "        while(curr!=None):\n",
    "            count+=1\n",
    "            curr=curr.next\n",
    "        return count\n",
    "    \n",
    "    def peek(self):\n",
    "        if self.is_empty():\n",
    "            return \"Queue is empty !!!\"\n",
    "        else:\n",
    "            return f\"Front Element is : {self.front.value}\"\n",
    "\n",
    "\n"
   ]
  },
  {
   "cell_type": "code",
   "execution_count": 48,
   "id": "5657bcfe",
   "metadata": {},
   "outputs": [],
   "source": [
    "q=Queue()"
   ]
  },
  {
   "cell_type": "code",
   "execution_count": 49,
   "id": "f2ebcea4",
   "metadata": {},
   "outputs": [
    {
     "data": {
      "text/plain": [
       "True"
      ]
     },
     "execution_count": 49,
     "metadata": {},
     "output_type": "execute_result"
    }
   ],
   "source": [
    "q.is_empty()"
   ]
  },
  {
   "cell_type": "code",
   "execution_count": 50,
   "id": "9291db17",
   "metadata": {},
   "outputs": [],
   "source": [
    "q.enqueue(76)\n",
    "q.enqueue(86)\n",
    "q.enqueue(56)\n",
    "q.enqueue(86)"
   ]
  },
  {
   "cell_type": "code",
   "execution_count": 51,
   "id": "82ddba8e",
   "metadata": {},
   "outputs": [
    {
     "name": "stdout",
     "output_type": "stream",
     "text": [
      "Dequeueing : 76\n"
     ]
    }
   ],
   "source": [
    "q.dequeue()"
   ]
  },
  {
   "cell_type": "code",
   "execution_count": 52,
   "id": "974247ba",
   "metadata": {},
   "outputs": [
    {
     "name": "stdout",
     "output_type": "stream",
     "text": [
      "86 56 86 "
     ]
    }
   ],
   "source": [
    "q.traverse()"
   ]
  },
  {
   "cell_type": "code",
   "execution_count": 53,
   "id": "fc7459f4",
   "metadata": {},
   "outputs": [
    {
     "data": {
      "text/plain": [
       "3"
      ]
     },
     "execution_count": 53,
     "metadata": {},
     "output_type": "execute_result"
    }
   ],
   "source": [
    "q.size()"
   ]
  },
  {
   "cell_type": "code",
   "execution_count": 54,
   "id": "2ab91fac",
   "metadata": {},
   "outputs": [
    {
     "data": {
      "text/plain": [
       "'Front Element is : 86'"
      ]
     },
     "execution_count": 54,
     "metadata": {},
     "output_type": "execute_result"
    }
   ],
   "source": [
    "q.peek()"
   ]
  },
  {
   "cell_type": "code",
   "execution_count": null,
   "id": "a4b2f911",
   "metadata": {},
   "outputs": [],
   "source": []
  }
 ],
 "metadata": {
  "kernelspec": {
   "display_name": "Python 3",
   "language": "python",
   "name": "python3"
  },
  "language_info": {
   "codemirror_mode": {
    "name": "ipython",
    "version": 3
   },
   "file_extension": ".py",
   "mimetype": "text/x-python",
   "name": "python",
   "nbconvert_exporter": "python",
   "pygments_lexer": "ipython3",
   "version": "3.8.20"
  }
 },
 "nbformat": 4,
 "nbformat_minor": 5
}
