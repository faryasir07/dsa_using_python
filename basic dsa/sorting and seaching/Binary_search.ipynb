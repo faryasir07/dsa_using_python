{
 "cells": [
  {
   "cell_type": "markdown",
   "id": "a682484a",
   "metadata": {},
   "source": [
    "Binary search required sorted array"
   ]
  },
  {
   "cell_type": "code",
   "execution_count": 23,
   "id": "422360ef",
   "metadata": {},
   "outputs": [],
   "source": [
    "def binary_search(arr,low,high,item):\n",
    "    if low<=high:\n",
    "        print(\"Value of low :\",low,\"value of high :\",high)\n",
    "        mid=(low+high)//2\n",
    "        print(\"value of mid :\",mid)\n",
    "        if arr[mid]==item:\n",
    "            return mid\n",
    "        elif arr[mid]<item:\n",
    "            return binary_search(arr,mid+1,high,item)\n",
    "        elif arr[mid]>item:\n",
    "            return binary_search(arr,low,mid-1,item)\n",
    "    else:\n",
    "        return -1\n",
    "\n"
   ]
  },
  {
   "cell_type": "code",
   "execution_count": 24,
   "id": "972e7817",
   "metadata": {},
   "outputs": [],
   "source": [
    "arr=[45,96,102,352,563,5000]"
   ]
  },
  {
   "cell_type": "code",
   "execution_count": 27,
   "id": "cf4392ac",
   "metadata": {},
   "outputs": [
    {
     "name": "stdout",
     "output_type": "stream",
     "text": [
      "Value of low : 0 value of high : 5\n",
      "value of mid : 2\n",
      "Value of low : 3 value of high : 5\n",
      "value of mid : 4\n"
     ]
    },
    {
     "data": {
      "text/plain": [
       "4"
      ]
     },
     "execution_count": 27,
     "metadata": {},
     "output_type": "execute_result"
    }
   ],
   "source": [
    "binary_search(arr,0,len(arr)-1,563)"
   ]
  },
  {
   "cell_type": "code",
   "execution_count": null,
   "id": "104d5894",
   "metadata": {},
   "outputs": [],
   "source": []
  }
 ],
 "metadata": {
  "kernelspec": {
   "display_name": "Python 3",
   "language": "python",
   "name": "python3"
  },
  "language_info": {
   "codemirror_mode": {
    "name": "ipython",
    "version": 3
   },
   "file_extension": ".py",
   "mimetype": "text/x-python",
   "name": "python",
   "nbconvert_exporter": "python",
   "pygments_lexer": "ipython3",
   "version": "3.8.20"
  }
 },
 "nbformat": 4,
 "nbformat_minor": 5
}
