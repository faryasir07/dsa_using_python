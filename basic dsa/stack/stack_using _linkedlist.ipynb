{
 "cells": [
  {
   "cell_type": "code",
   "execution_count": 2,
   "id": "c73f07d6",
   "metadata": {},
   "outputs": [],
   "source": [
    "class Node:\n",
    "    def __init__(self,value):\n",
    "        self.head=None\n",
    "        self.value=value\n"
   ]
  },
  {
   "cell_type": "code",
   "execution_count": 26,
   "id": "fe9902c7",
   "metadata": {},
   "outputs": [],
   "source": [
    "class Stack:\n",
    "    def __init__(self):\n",
    "        self.head=None\n",
    "    def isempty(self):\n",
    "        return self.head==None\n",
    "    \n",
    "    def push(self,value):\n",
    "        new_node=Node(value)\n",
    "        new_node.next=self.head\n",
    "        self.head=new_node\n",
    "\n",
    "    def traverse(self):\n",
    "        if self.isempty():\n",
    "            print(\"Stack is empty !!!\")\n",
    "            return\n",
    "        curr=self.head\n",
    "        while curr!=None:\n",
    "            print(curr.value,end=' ')\n",
    "            curr=curr.next\n",
    "\n",
    "    def peek(self):\n",
    "        if self.isempty():\n",
    "            print(\"Stack is empty !!!\")\n",
    "            return\n",
    "        print(self.head.value)\n",
    "    \n",
    "    def pop(self):\n",
    "        if self.isempty():\n",
    "            print(\"Stack is empty !!!\")\n",
    "            return\n",
    "        self.head=self.head.next\n",
    "\n",
    "    def size_Stack(self):\n",
    "        if self.isempty():\n",
    "            return 0\n",
    "        curr=self.head\n",
    "        count=0\n",
    "        while curr!=None:\n",
    "            count+=1\n",
    "            curr=curr.next\n",
    "        return count\n",
    "\n"
   ]
  },
  {
   "cell_type": "code",
   "execution_count": 33,
   "id": "460a769f",
   "metadata": {},
   "outputs": [],
   "source": [
    "s=Stack()"
   ]
  },
  {
   "cell_type": "code",
   "execution_count": 28,
   "id": "68a96921",
   "metadata": {},
   "outputs": [],
   "source": [
    "s.push(10)\n",
    "s.push(20)\n",
    "s.push(90)\n",
    "s.push(60)\n",
    "s.push(30)\n",
    "s.push(70)"
   ]
  },
  {
   "cell_type": "code",
   "execution_count": 29,
   "id": "d1837be2",
   "metadata": {},
   "outputs": [
    {
     "name": "stdout",
     "output_type": "stream",
     "text": [
      "70 30 60 90 20 10 "
     ]
    }
   ],
   "source": [
    "s.traverse()"
   ]
  },
  {
   "cell_type": "code",
   "execution_count": 30,
   "id": "d5826fa3",
   "metadata": {},
   "outputs": [
    {
     "name": "stdout",
     "output_type": "stream",
     "text": [
      "70\n"
     ]
    }
   ],
   "source": [
    "s.peek()"
   ]
  },
  {
   "cell_type": "code",
   "execution_count": 31,
   "id": "79db635f",
   "metadata": {},
   "outputs": [],
   "source": [
    "s.pop()"
   ]
  },
  {
   "cell_type": "code",
   "execution_count": 34,
   "id": "70d4b336",
   "metadata": {},
   "outputs": [
    {
     "data": {
      "text/plain": [
       "0"
      ]
     },
     "execution_count": 34,
     "metadata": {},
     "output_type": "execute_result"
    }
   ],
   "source": [
    "s.size_Stack()"
   ]
  },
  {
   "cell_type": "code",
   "execution_count": null,
   "id": "ed5755ca",
   "metadata": {},
   "outputs": [],
   "source": []
  }
 ],
 "metadata": {
  "kernelspec": {
   "display_name": "Python 3",
   "language": "python",
   "name": "python3"
  },
  "language_info": {
   "codemirror_mode": {
    "name": "ipython",
    "version": 3
   },
   "file_extension": ".py",
   "mimetype": "text/x-python",
   "name": "python",
   "nbconvert_exporter": "python",
   "pygments_lexer": "ipython3",
   "version": "3.8.20"
  }
 },
 "nbformat": 4,
 "nbformat_minor": 5
}
