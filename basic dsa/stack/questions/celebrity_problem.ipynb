{
 "cells": [
  {
   "cell_type": "code",
   "execution_count": 5,
   "id": "6be1fa88",
   "metadata": {},
   "outputs": [],
   "source": [
    "class Node:\n",
    "    def __init__(self,value):\n",
    "        self.head=None\n",
    "        self.value=value\n"
   ]
  },
  {
   "cell_type": "code",
   "execution_count": 18,
   "id": "efd32755",
   "metadata": {},
   "outputs": [],
   "source": [
    "class Stack:\n",
    "    def __init__(self):\n",
    "        self.head=None\n",
    "    def isempty(self):\n",
    "        return self.head==None\n",
    "    \n",
    "    def push(self,value):\n",
    "        new_node=Node(value)\n",
    "        new_node.next=self.head\n",
    "        self.head=new_node\n",
    "\n",
    "    def traverse(self):\n",
    "        if self.isempty():\n",
    "            print(\"Stack is empty !!!\")\n",
    "            return\n",
    "        curr=self.head\n",
    "        while curr!=None:\n",
    "            print(curr.value,end=' ')\n",
    "            curr=curr.next\n",
    "        return\n",
    "\n",
    "    def peek(self):\n",
    "        if self.isempty():\n",
    "            print(\"Stack is empty !!!\")\n",
    "            return\n",
    "        print(self.head.value)\n",
    "    \n",
    "    def pop(self):\n",
    "        if self.isempty():\n",
    "            print(\"Stack is empty !!!\")\n",
    "            return\n",
    "        else:\n",
    "            data=self.head.value\n",
    "            self.head=self.head.next\n",
    "            return data\n",
    "\n",
    "    def size_Stack(self):\n",
    "        if self.isempty():\n",
    "            return 0\n",
    "        curr=self.head\n",
    "        count=0\n",
    "        while curr!=None:\n",
    "            count+=1\n",
    "            curr=curr.next\n",
    "        return count\n",
    "\n"
   ]
  },
  {
   "cell_type": "code",
   "execution_count": 22,
   "id": "8c5c804a",
   "metadata": {},
   "outputs": [],
   "source": [
    "l=[[0,0,1,1],\n",
    "[0,0,1,0],\n",
    "[0,0,0,0],\n",
    "[0,0,1,0]]"
   ]
  },
  {
   "cell_type": "code",
   "execution_count": 27,
   "id": "21e2a695",
   "metadata": {},
   "outputs": [],
   "source": [
    "def find_celebrity(l):\n",
    "    s=Stack()\n",
    "    for i in range(len(l)):\n",
    "        s.push(i)\n",
    "    while s.size_Stack()>=2:\n",
    "        i=s.pop()\n",
    "        j=s.pop()\n",
    "        if l[i][j]==0:\n",
    "            #j is not celebrity\n",
    "            s.push(i)\n",
    "        else:\n",
    "            s.push(j)\n",
    "    \n",
    "    celeb=s.pop()\n",
    "    for i in range(len(l)):\n",
    "        if i !=celeb:\n",
    "            if l[i][celeb]==0 or l[celeb][i]==1:\n",
    "                print(\"No celebrity\")\n",
    "                return\n",
    "            \n",
    "    print(\"Celebrity is :\",celeb)\n",
    "\n",
    "\n",
    "             "
   ]
  },
  {
   "cell_type": "code",
   "execution_count": 28,
   "id": "ea66794a",
   "metadata": {},
   "outputs": [
    {
     "name": "stdout",
     "output_type": "stream",
     "text": [
      "Celebrity is : 2\n"
     ]
    }
   ],
   "source": [
    "find_celebrity(l)"
   ]
  },
  {
   "cell_type": "code",
   "execution_count": null,
   "id": "70abc1f4",
   "metadata": {},
   "outputs": [],
   "source": []
  }
 ],
 "metadata": {
  "kernelspec": {
   "display_name": "Python 3",
   "language": "python",
   "name": "python3"
  },
  "language_info": {
   "codemirror_mode": {
    "name": "ipython",
    "version": 3
   },
   "file_extension": ".py",
   "mimetype": "text/x-python",
   "name": "python",
   "nbconvert_exporter": "python",
   "pygments_lexer": "ipython3",
   "version": "3.8.20"
  }
 },
 "nbformat": 4,
 "nbformat_minor": 5
}
