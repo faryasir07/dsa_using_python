{
 "cells": [
  {
   "cell_type": "markdown",
   "id": "2d520878",
   "metadata": {},
   "source": [
    "Given : Hello"
   ]
  },
  {
   "cell_type": "code",
   "execution_count": 2,
   "id": "1b4da353",
   "metadata": {},
   "outputs": [],
   "source": [
    "##NOT recommanded stack for string reversal due to its space and time complexity"
   ]
  },
  {
   "cell_type": "code",
   "execution_count": 3,
   "id": "4f2d417f",
   "metadata": {},
   "outputs": [],
   "source": [
    "class Node:\n",
    "    def __init__(self,value):\n",
    "        self.head=None\n",
    "        self.value=value\n"
   ]
  },
  {
   "cell_type": "code",
   "execution_count": 17,
   "id": "7a45a222",
   "metadata": {},
   "outputs": [],
   "source": [
    "class Stack:\n",
    "    def __init__(self):\n",
    "        self.head=None\n",
    "    def isempty(self):\n",
    "        return self.head==None\n",
    "    \n",
    "    def push(self,value):\n",
    "        new_node=Node(value)\n",
    "        new_node.next=self.head\n",
    "        self.head=new_node\n",
    "\n",
    "    def traverse(self):\n",
    "        if self.isempty():\n",
    "            print(\"Stack is empty !!!\")\n",
    "            return\n",
    "        curr=self.head\n",
    "        while curr!=None:\n",
    "            print(curr.value,end=' ')\n",
    "            curr=curr.next\n",
    "\n",
    "    def peek(self):\n",
    "        if self.isempty():\n",
    "            print(\"Stack is empty !!!\")\n",
    "            return\n",
    "        print(self.head.value)\n",
    "    \n",
    "    def pop(self):\n",
    "        if self.isempty():\n",
    "            print(\"Stack is empty !!!\")\n",
    "            return\n",
    "        else:\n",
    "            data=self.head.value\n",
    "            self.head=self.head.next\n",
    "            return data\n",
    "\n",
    "    def size_Stack(self):\n",
    "        if self.isempty():\n",
    "            return 0\n",
    "        curr=self.head\n",
    "        count=0\n",
    "        while curr!=None:\n",
    "            count+=1\n",
    "            curr=curr.next\n",
    "        return count\n",
    "\n"
   ]
  },
  {
   "cell_type": "code",
   "execution_count": 22,
   "id": "7d2990c8",
   "metadata": {},
   "outputs": [],
   "source": [
    "def reverse_string(text):\n",
    "    s=Stack()\n",
    "    for i in text:\n",
    "        s.push(i)\n",
    "    reverse_text=\"\"\n",
    "    while(s.isempty()==False):\n",
    "        reverse_text=reverse_text+s.pop()\n",
    "    return reverse_text\n",
    "    "
   ]
  },
  {
   "cell_type": "code",
   "execution_count": 24,
   "id": "f6852891",
   "metadata": {},
   "outputs": [
    {
     "data": {
      "text/plain": [
       "'dlrow ollEH'"
      ]
     },
     "execution_count": 24,
     "metadata": {},
     "output_type": "execute_result"
    }
   ],
   "source": [
    "reverse_string(\"HEllo world\")"
   ]
  },
  {
   "cell_type": "code",
   "execution_count": null,
   "id": "9fe0ac54",
   "metadata": {},
   "outputs": [],
   "source": []
  }
 ],
 "metadata": {
  "kernelspec": {
   "display_name": "Python 3",
   "language": "python",
   "name": "python3"
  },
  "language_info": {
   "codemirror_mode": {
    "name": "ipython",
    "version": 3
   },
   "file_extension": ".py",
   "mimetype": "text/x-python",
   "name": "python",
   "nbconvert_exporter": "python",
   "pygments_lexer": "ipython3",
   "version": "3.8.20"
  }
 },
 "nbformat": 4,
 "nbformat_minor": 5
}
