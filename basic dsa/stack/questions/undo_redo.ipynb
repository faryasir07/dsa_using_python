{
 "cells": [
  {
   "cell_type": "code",
   "execution_count": 9,
   "id": "d112b215",
   "metadata": {},
   "outputs": [],
   "source": [
    "class Node:\n",
    "    def __init__(self,value):\n",
    "        self.head=None\n",
    "        self.value=value\n"
   ]
  },
  {
   "cell_type": "code",
   "execution_count": 10,
   "id": "eb3b764a",
   "metadata": {},
   "outputs": [],
   "source": [
    "class Stack:\n",
    "    def __init__(self):\n",
    "        self.head=None\n",
    "    def isempty(self):\n",
    "        return self.head==None\n",
    "    \n",
    "    def push(self,value):\n",
    "        new_node=Node(value)\n",
    "        new_node.next=self.head\n",
    "        self.head=new_node\n",
    "\n",
    "    def traverse(self):\n",
    "        if self.isempty():\n",
    "            print(\"Stack is empty !!!\")\n",
    "            return\n",
    "        curr=self.head\n",
    "        while curr!=None:\n",
    "            print(curr.value,end=' ')\n",
    "            curr=curr.next\n",
    "\n",
    "    def peek(self):\n",
    "        if self.isempty():\n",
    "            print(\"Stack is empty !!!\")\n",
    "            return\n",
    "        print(self.head.value)\n",
    "    \n",
    "    def pop(self):\n",
    "        if self.isempty():\n",
    "            print(\"Stack is empty !!!\")\n",
    "            return\n",
    "        else:\n",
    "            data=self.head.value\n",
    "            self.head=self.head.next\n",
    "            return data\n",
    "\n",
    "    def size_Stack(self):\n",
    "        if self.isempty():\n",
    "            return 0\n",
    "        curr=self.head\n",
    "        count=0\n",
    "        while curr!=None:\n",
    "            count+=1\n",
    "            curr=curr.next\n",
    "        return count\n",
    "\n"
   ]
  },
  {
   "cell_type": "code",
   "execution_count": null,
   "id": "f7b4ba7d",
   "metadata": {},
   "outputs": [],
   "source": []
  },
  {
   "cell_type": "code",
   "execution_count": 11,
   "id": "ea17f614",
   "metadata": {},
   "outputs": [],
   "source": [
    "def undo_redo(text,command):\n",
    "    undo=Stack()\n",
    "    redo=Stack()\n",
    "    \n",
    "    for i in text:\n",
    "        undo.push(i)\n",
    "\n",
    "    for i in command:\n",
    "        if i=='u':\n",
    "            data=undo.pop()\n",
    "            redo.push(data)\n",
    "        else:\n",
    "            data=redo.pop()\n",
    "            undo.push(data)\n",
    "        res=\"\"\n",
    "    while (not undo.isempty()):\n",
    "        res=undo.pop()+res\n",
    "    return res\n"
   ]
  },
  {
   "cell_type": "code",
   "execution_count": 13,
   "id": "9d8766e5",
   "metadata": {},
   "outputs": [
    {
     "data": {
      "text/plain": [
       "'hell'"
      ]
     },
     "execution_count": 13,
     "metadata": {},
     "output_type": "execute_result"
    }
   ],
   "source": [
    "undo_redo(\"hello\",\"uur\")"
   ]
  },
  {
   "cell_type": "code",
   "execution_count": null,
   "id": "f9c0631d",
   "metadata": {},
   "outputs": [],
   "source": []
  }
 ],
 "metadata": {
  "kernelspec": {
   "display_name": "Python 3",
   "language": "python",
   "name": "python3"
  },
  "language_info": {
   "codemirror_mode": {
    "name": "ipython",
    "version": 3
   },
   "file_extension": ".py",
   "mimetype": "text/x-python",
   "name": "python",
   "nbconvert_exporter": "python",
   "pygments_lexer": "ipython3",
   "version": "3.8.20"
  }
 },
 "nbformat": 4,
 "nbformat_minor": 5
}
