{
 "cells": [
  {
   "cell_type": "code",
   "execution_count": 32,
   "id": "74cf6908",
   "metadata": {},
   "outputs": [],
   "source": [
    "class stack:\n",
    "    def __init__(self,size):\n",
    "        self.size=size\n",
    "        self.stack=[None]*size\n",
    "        self.top=-1\n",
    "    \n",
    "    def push(self,value):\n",
    "        if self.top==self.size-1:\n",
    "            return \"Stack Overflow\"\n",
    "        else:\n",
    "            self.top+=1\n",
    "            self.stack[self.top]=value\n",
    "            return f\"Value {value} pushed to Stack!\"\n",
    "        \n",
    "    def pop(self):\n",
    "        if self.top==-1:\n",
    "            return \"Stack Underflow\"\n",
    "        else:\n",
    "            value=self.stack[self.top]\n",
    "            self.stack[self.top]=None\n",
    "            self.top-=1\n",
    "            return f\"Value {value} popped from stack !\"\n",
    "        \n",
    "    def peek(self):\n",
    "        if self.top==-1:\n",
    "            return \"stack is empty\"\n",
    "        else:\n",
    "            return f\"Top element of stack is {self.stack[self.top]}\"\n",
    "        \n",
    "    def traverse(self):\n",
    "        if self.top==-1:\n",
    "            return \"stack is empty\"\n",
    "        else:\n",
    "            for i in range(self.top+1):\n",
    "                print(self.stack[i],end=\" \")\n"
   ]
  },
  {
   "cell_type": "code",
   "execution_count": 33,
   "id": "02f628e0",
   "metadata": {},
   "outputs": [],
   "source": [
    "s=stack(5)"
   ]
  },
  {
   "cell_type": "code",
   "execution_count": 34,
   "id": "30d2a11a",
   "metadata": {},
   "outputs": [
    {
     "data": {
      "text/plain": [
       "[None, None, None, None, None]"
      ]
     },
     "execution_count": 34,
     "metadata": {},
     "output_type": "execute_result"
    }
   ],
   "source": [
    "s.stack"
   ]
  },
  {
   "cell_type": "code",
   "execution_count": 35,
   "id": "6d2b7d9a",
   "metadata": {},
   "outputs": [
    {
     "data": {
      "text/plain": [
       "'Value 47 pushed to Stack!'"
      ]
     },
     "execution_count": 35,
     "metadata": {},
     "output_type": "execute_result"
    }
   ],
   "source": [
    "s.push(40)\n",
    "s.push(17)\n",
    "s.push(18)\n",
    "s.push(47)\n"
   ]
  },
  {
   "cell_type": "code",
   "execution_count": 36,
   "id": "1f465f3d",
   "metadata": {},
   "outputs": [
    {
     "data": {
      "text/plain": [
       "'Value 58 pushed to Stack!'"
      ]
     },
     "execution_count": 36,
     "metadata": {},
     "output_type": "execute_result"
    }
   ],
   "source": [
    "s.push(58)"
   ]
  },
  {
   "cell_type": "code",
   "execution_count": 37,
   "id": "9c3a98fa",
   "metadata": {},
   "outputs": [
    {
     "name": "stdout",
     "output_type": "stream",
     "text": [
      "40 17 18 47 58 "
     ]
    }
   ],
   "source": [
    "s.traverse()"
   ]
  },
  {
   "cell_type": "code",
   "execution_count": 38,
   "id": "df80b107",
   "metadata": {},
   "outputs": [
    {
     "data": {
      "text/plain": [
       "'Top element of stack is 58'"
      ]
     },
     "execution_count": 38,
     "metadata": {},
     "output_type": "execute_result"
    }
   ],
   "source": [
    "s.peek()"
   ]
  },
  {
   "cell_type": "code",
   "execution_count": 30,
   "id": "f50ce627",
   "metadata": {},
   "outputs": [
    {
     "data": {
      "text/plain": [
       "'Value 58 popped from stack !'"
      ]
     },
     "execution_count": 30,
     "metadata": {},
     "output_type": "execute_result"
    }
   ],
   "source": [
    "s.pop()"
   ]
  },
  {
   "cell_type": "code",
   "execution_count": 31,
   "id": "3e91f68a",
   "metadata": {},
   "outputs": [
    {
     "data": {
      "text/plain": [
       "[40, 17, 18, 47, None]"
      ]
     },
     "execution_count": 31,
     "metadata": {},
     "output_type": "execute_result"
    }
   ],
   "source": [
    "s.stack"
   ]
  },
  {
   "cell_type": "code",
   "execution_count": null,
   "id": "7d067261",
   "metadata": {},
   "outputs": [],
   "source": []
  }
 ],
 "metadata": {
  "kernelspec": {
   "display_name": "Python 3",
   "language": "python",
   "name": "python3"
  },
  "language_info": {
   "codemirror_mode": {
    "name": "ipython",
    "version": 3
   },
   "file_extension": ".py",
   "mimetype": "text/x-python",
   "name": "python",
   "nbconvert_exporter": "python",
   "pygments_lexer": "ipython3",
   "version": "3.8.20"
  }
 },
 "nbformat": 4,
 "nbformat_minor": 5
}
