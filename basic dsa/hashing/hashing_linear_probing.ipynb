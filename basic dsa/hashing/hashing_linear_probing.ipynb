{
 "cells": [
  {
   "cell_type": "markdown",
   "id": "4ebd34e0",
   "metadata": {},
   "source": [
    "Hashing function can be any function :\n",
    "        for example:\n",
    "storing string :{cat,rat,dog}       \n",
    "we can make:\n",
    "for cat :--.>>(ascii(c)+ascii(a)+ascii(t))%size(array)"
   ]
  },
  {
   "cell_type": "code",
   "execution_count": 33,
   "id": "3fd99f61",
   "metadata": {},
   "outputs": [],
   "source": [
    "class Dictionary:\n",
    "    def __init__(self,size):\n",
    "        self.size=size\n",
    "        self.slots=[None]*self.size\n",
    "        self.data=[None]*self.size\n",
    "    \n",
    "    def hash_function(self,key):\n",
    "        return abs(hash(key))%self.size\n",
    "    \n",
    "    def put(self,key,value):\n",
    "        hash_value=self.hash_function(key)\n",
    "\n",
    "        if self.slots[hash_value]==None:\n",
    "            self.slots[hash_value]=key\n",
    "            self.data[hash_value]=value\n",
    "        else:\n",
    "            if self.slots[hash_value]==key:\n",
    "                self.data[hash_value]=value\n",
    "            else:\n",
    "                new_hash_value=self.rehash(hash_value)\n",
    "                \n",
    "                while self.slots[new_hash_value]!=None and self.slots[new_hash_value]!=key:\n",
    "                    new_hash_value=self.rehash(new_hash_value)\n",
    "\n",
    "                if self.slots[new_hash_value]==None:\n",
    "                    self.slots[new_hash_value]=key\n",
    "                    self.data[new_hash_value]=value\n",
    "                else:\n",
    "                    self.data[new_hash_value]=value\n",
    "                \n",
    "    def __getitem__(self,key):\n",
    "        return self.get(key)\n",
    "    \n",
    "    def __str__(self):\n",
    "        for i in range(self.size):\n",
    "            if self.slots[i]!=None:\n",
    "                print(f\"{self.slots[i]}: {self.data[i]}\")\n",
    "        \n",
    "    def rehash(self,old_hash):\n",
    "        return (old_hash+1)%self.size\n",
    "    \n",
    "    def __setitem__(self,key,value): ##for using the [] operator\n",
    "        self.put(key,value)\n",
    "\n",
    "    def get(self,key):\n",
    "        start_position=self.hash_function(key)\n",
    "        current_position=start_position\n",
    "\n",
    "        while self.slots[current_position]!=None:\n",
    "            if self.slots[current_position]==key:\n",
    "                return self.data[current_position]\n",
    "            current_position=self.rehash(current_position)\n",
    "            if current_position==start_position:\n",
    "                break\n",
    "        return None"
   ]
  },
  {
   "cell_type": "code",
   "execution_count": 26,
   "id": "8ed6683f",
   "metadata": {},
   "outputs": [],
   "source": [
    "d=Dictionary(5)"
   ]
  },
  {
   "cell_type": "code",
   "execution_count": 32,
   "id": "3e60683f",
   "metadata": {},
   "outputs": [
    {
     "name": "stdout",
     "output_type": "stream",
     "text": [
      "['python', None, None, None, None]\n",
      "[56, None, None, None, None]\n"
     ]
    }
   ],
   "source": [
    "print(d.slots)\n",
    "print(d.data)"
   ]
  },
  {
   "cell_type": "code",
   "execution_count": 28,
   "id": "395b20e2",
   "metadata": {},
   "outputs": [],
   "source": [
    "d.put('python',4)"
   ]
  },
  {
   "cell_type": "code",
   "execution_count": 21,
   "id": "50a9d76a",
   "metadata": {},
   "outputs": [],
   "source": [
    "d.put('c++',2)\n",
    "d.put('java',3)\n",
    "\n",
    "d.put('php',5)\n"
   ]
  },
  {
   "cell_type": "code",
   "execution_count": 31,
   "id": "faa88323",
   "metadata": {},
   "outputs": [],
   "source": [
    "d[\"python\"]=56"
   ]
  },
  {
   "cell_type": "code",
   "execution_count": null,
   "id": "75353960",
   "metadata": {},
   "outputs": [],
   "source": []
  }
 ],
 "metadata": {
  "kernelspec": {
   "display_name": "Python 3",
   "language": "python",
   "name": "python3"
  },
  "language_info": {
   "codemirror_mode": {
    "name": "ipython",
    "version": 3
   },
   "file_extension": ".py",
   "mimetype": "text/x-python",
   "name": "python",
   "nbconvert_exporter": "python",
   "pygments_lexer": "ipython3",
   "version": "3.8.20"
  }
 },
 "nbformat": 4,
 "nbformat_minor": 5
}
