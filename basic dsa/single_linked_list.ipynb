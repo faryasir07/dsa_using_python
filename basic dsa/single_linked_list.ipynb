{
 "cells": [
  {
   "cell_type": "code",
   "execution_count": 1,
   "metadata": {},
   "outputs": [],
   "source": [
    "##creating node\n",
    "class Node:\n",
    "    def __init__(self, data):\n",
    "        self.data = data   ##stores data\n",
    "        self.next = None   ## initialized to None, meaning initially, the node doesn't point to anything"
   ]
  },
  {
   "cell_type": "code",
   "execution_count": 4,
   "metadata": {},
   "outputs": [],
   "source": [
    "# Node class to represent each element of the linked list\n",
    "class Node:\n",
    "    def __init__(self, data):\n",
    "        self.data = data  # Data of the node\n",
    "        self.next = None  # Pointer to the next node in the list\n",
    "\n",
    "# LinkedList class to represent the singly linked list\n",
    "class LinkedList:\n",
    "    def __init__(self):\n",
    "        self.head = None  # Initialize with an empty list (no nodes)\n",
    "\n",
    "    # Method to create a new node and add it to the list\n",
    "    def create(self, data):\n",
    "        new_node = Node(data)  # Create a new node with the given data\n",
    "        if not self.head:  # If the list is empty\n",
    "            self.head = new_node  # Set the new node as the head of the list\n",
    "        else:\n",
    "            current = self.head  # Start at the head node\n",
    "            while current.next:  # Traverse to the last node\n",
    "                current = current.next\n",
    "            current.next = new_node  # Add the new node at the end of the list\n",
    "\n",
    "    # Method to insert a node at the beginning of the list\n",
    "    def insert_at_beginning(self, data):\n",
    "        new_node = Node(data)  # Create a new node\n",
    "        new_node.next = self.head  # Make the new node point to the current head\n",
    "        self.head = new_node  # Update the head to be the new node\n",
    "\n",
    "    # Method to insert a node at any position in the list\n",
    "    def insert_at_position(self, data, position):\n",
    "        if position < 1:  # Position must be a positive integer\n",
    "            print(\"Invalid position\")\n",
    "            return\n",
    "        \n",
    "        new_node = Node(data)  # Create a new node with the given data\n",
    "\n",
    "        if position == 1:  # If we want to insert at the beginning\n",
    "            new_node.next = self.head  # Make the new node point to the current head\n",
    "            self.head = new_node  # Update the head to be the new node\n",
    "            return\n",
    "\n",
    "        current = self.head  # Start at the head node\n",
    "        count = 1\n",
    "        while current and count < position - 1:  # Traverse to the node before the desired position\n",
    "            current = current.next\n",
    "            count += 1\n",
    "\n",
    "        if not current:  # If the position is out of range\n",
    "            print(\"Position out of range\")\n",
    "            return\n",
    "\n",
    "        new_node.next = current.next  # Make the new node point to the next node\n",
    "        current.next = new_node  # Link the previous node to the new node\n",
    "\n",
    "    # Method to delete the first node (head) from the list\n",
    "    def delete_at_beginning(self):\n",
    "        if not self.head:  # If the list is empty\n",
    "            print(\"List is empty\")\n",
    "            return\n",
    "        self.head = self.head.next  # Make the second node the new head\n",
    "\n",
    "    # Method to delete a node at any position in the list\n",
    "    def delete_at_position(self, position):\n",
    "        if position < 1:  # Position must be a positive integer\n",
    "            print(\"Invalid position\")\n",
    "            return\n",
    "\n",
    "        if not self.head:  # If the list is empty\n",
    "            print(\"List is empty\")\n",
    "            return\n",
    "\n",
    "        if position == 1:  # If we want to delete the head node\n",
    "            self.head = self.head.next  # Make the second node the new head\n",
    "            return\n",
    "\n",
    "        current = self.head  # Start at the head node\n",
    "        count = 1\n",
    "        while current and count < position - 1:  # Traverse to the node before the desired position\n",
    "            current = current.next\n",
    "            count += 1\n",
    "\n",
    "        if not current or not current.next:  # If the position is out of range or the node doesn't exist\n",
    "            print(\"Position out of range\")\n",
    "            return\n",
    "\n",
    "        current.next = current.next.next  # Link the previous node to the next of the node to be deleted\n",
    "\n",
    "    # Method to display the entire list\n",
    "    def display(self):\n",
    "        if not self.head:  # If the list is empty\n",
    "            print(\"List is empty\")\n",
    "            return\n",
    "\n",
    "        current = self.head  # Start at the head node\n",
    "        while current:  # Traverse through the list\n",
    "            print(current.data, end=\" -> \")  # Print data of the current node\n",
    "            current = current.next  # Move to the next node\n",
    "        print(\"None\")  # Indicate the end of the list\n",
    "\n",
    "\n",
    "   "
   ]
  },
  {
   "cell_type": "code",
   "execution_count": null,
   "metadata": {},
   "outputs": [],
   "source": [
    "llist = LinkedList() # Create a new linked list"
   ]
  },
  {
   "cell_type": "code",
   "execution_count": 7,
   "metadata": {},
   "outputs": [],
   "source": [
    " # Create the linked list by adding elements\n",
    "llist.create(10)\n",
    "llist.create(20)\n",
    "llist.create(30)\n",
    "llist.create(40)"
   ]
  },
  {
   "cell_type": "code",
   "execution_count": 8,
   "metadata": {},
   "outputs": [
    {
     "name": "stdout",
     "output_type": "stream",
     "text": [
      "Original list:\n",
      "10 -> 20 -> 30 -> 40 -> None\n"
     ]
    }
   ],
   "source": [
    "# Displaying the current linked list\n",
    "print(\"Original list:\")\n",
    "llist.display()  "
   ]
  },
  {
   "cell_type": "code",
   "execution_count": 9,
   "metadata": {},
   "outputs": [],
   "source": [
    "# Inserting a node at the beginning\n",
    "llist.insert_at_beginning(5)"
   ]
  },
  {
   "cell_type": "code",
   "execution_count": 10,
   "metadata": {},
   "outputs": [
    {
     "name": "stdout",
     "output_type": "stream",
     "text": [
      "\n",
      "After inserting 5 at the beginning:\n",
      "5 -> 10 -> 20 -> 30 -> 40 -> None\n"
     ]
    }
   ],
   "source": [
    "print(\"\\nAfter inserting 5 at the beginning:\")\n",
    "llist.display()"
   ]
  },
  {
   "cell_type": "code",
   "execution_count": 12,
   "metadata": {},
   "outputs": [
    {
     "name": "stdout",
     "output_type": "stream",
     "text": [
      "\n",
      " After inserting 15 at position 3:\n",
      "5 -> 10 -> 15 -> 15 -> 20 -> 30 -> 40 -> None\n"
     ]
    }
   ],
   "source": [
    "# Inserting  a node at position 3\n",
    "llist.insert_at_position(15,3)\n",
    "print(\"\\n After inserting 15 at position 3:\")\n",
    "llist.display()"
   ]
  },
  {
   "cell_type": "code",
   "execution_count": 13,
   "metadata": {},
   "outputs": [
    {
     "name": "stdout",
     "output_type": "stream",
     "text": [
      "\n",
      " After deleting the first node :\n",
      "10 -> 15 -> 15 -> 20 -> 30 -> 40 -> None\n"
     ]
    }
   ],
   "source": [
    "##deleting the first node\n",
    "llist.delete_at_beginning()\n",
    "print(\"\\n After deleting the first node :\")\n",
    "llist.display()"
   ]
  },
  {
   "cell_type": "code",
   "execution_count": 14,
   "metadata": {},
   "outputs": [
    {
     "name": "stdout",
     "output_type": "stream",
     "text": [
      "\n",
      " After deleting at position 2 :\n",
      "10 -> 15 -> 20 -> 30 -> 40 -> None\n"
     ]
    }
   ],
   "source": [
    "##deleting at position 2\n",
    "llist.delete_at_position(2)\n",
    "print(\"\\n After deleting at position 2 :\")\n",
    "llist.display()"
   ]
  },
  {
   "cell_type": "code",
   "execution_count": null,
   "metadata": {},
   "outputs": [],
   "source": []
  }
 ],
 "metadata": {
  "kernelspec": {
   "display_name": "Python 3",
   "language": "python",
   "name": "python3"
  },
  "language_info": {
   "codemirror_mode": {
    "name": "ipython",
    "version": 3
   },
   "file_extension": ".py",
   "mimetype": "text/x-python",
   "name": "python",
   "nbconvert_exporter": "python",
   "pygments_lexer": "ipython3",
   "version": "3.8.20"
  }
 },
 "nbformat": 4,
 "nbformat_minor": 2
}
